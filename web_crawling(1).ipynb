{
 "cells": [
  {
   "cell_type": "code",
   "execution_count": 1,
   "id": "980dad0e",
   "metadata": {},
   "outputs": [],
   "source": [
    "#coding=utf-8\n",
    "\n",
    "# if PyMySQL not install before, install for manipulating mysql database\n",
    "# %pip install pymysql\n",
    "\n",
    "import time\n",
    "import requests\n",
    "import pandas as pd\n",
    "from bs4 import BeautifulSoup, Comment, SoupStrainer\n",
    "\n",
    "import pymysql\n"
   ]
  },
  {
   "cell_type": "markdown",
   "id": "a7b10cb9",
   "metadata": {},
   "source": []
  },
  {
   "cell_type": "code",
   "execution_count": 2,
   "id": "01c9f3e8",
   "metadata": {},
   "outputs": [],
   "source": [
    "db_config = {'host':'localhost',\n",
    "             'user':'root',\n",
    "             'password':'123456',\n",
    "             'database':'mysql',\n",
    "             'charset':'utf8',\n",
    "             'cursorclass': pymysql.cursors.DictCursor}"
   ]
  },
  {
   "cell_type": "code",
   "execution_count": 3,
   "id": "67718af3",
   "metadata": {},
   "outputs": [],
   "source": [
    "def connect_db():\n",
    "    # connect to mysql database\n",
    "    conn = pymysql.connect(**db_config)\n",
    "\n",
    "    return conn\n",
    "\n"
   ]
  },
  {
   "cell_type": "markdown",
   "id": "62450c21",
   "metadata": {},
   "source": []
  },
  {
   "cell_type": "markdown",
   "id": "3424afb1",
   "metadata": {},
   "source": [
    "## extract data about movies now showing"
   ]
  },
  {
   "cell_type": "code",
   "execution_count": 137,
   "id": "f1b2a980",
   "metadata": {},
   "outputs": [],
   "source": [
    "def extract_movie_info(movie_info, end_url_list, html):\n",
    "    html = requests.get(html)\n",
    "\n",
    "    # get source page with content property\n",
    "    # resolve with BeautifulSoap and transfer into BS class\n",
    "    soup = BeautifulSoup(html.content,'lxml')\n",
    "\n",
    "    table_list = soup.find(\"table\",id='DataNowshowingListing')\n",
    "    table_movies = table_list.find(\"table\",width='650')\n",
    "\n",
    "    # find movie image info from DataNowshowingListing\n",
    "    for tbl in table_movies.find_all('table', width=\"650\"):\n",
    "        tds = tbl.find_all('td', class_='mtitle-listing-txt')\n",
    "\n",
    "        movie_info[tbl.select('img')[0]['title']] = {'title': tbl.select('img')[0]['alt'], \n",
    "                                                    'poster_src': tbl.select('img')[0]['src'],\n",
    "                                                    'title_EN': tds[0].text,\n",
    "                                                     'title_CN': tds[1].text\n",
    "                                                   }\n",
    "\n",
    "        titles = tbl.find_all('td', class_='mdetail-listing-txt')\n",
    "        infos = tbl.find_all('td', class_='mdetail-b-listing-txt')\n",
    "\n",
    "        movie_info[tbl.select('img')[0]['title']][titles[0].text] = infos[0].text\n",
    "        movie_info[tbl.select('img')[0]['title']][titles[2].text] = infos[1].text\n",
    "        movie_info[tbl.select('img')[0]['title']][titles[4].text] = infos[2].text\n",
    "        movie_info[tbl.select('img')[0]['title']]['introduction'] = titles[6].text\n",
    "\n",
    "\n",
    "    # get all sub_url for detailed info\n",
    "    for i in soup.find_all('span', class_='listing-but'):\n",
    "        if i.text == 'INFO':\n",
    "            item = i.find_all('a')\n",
    "            for j in item:\n",
    "                end_url = j.get('href')\n",
    "                if end_url not in end_url_list:\n",
    "                    end_url_list.append(j.get('href'))\n",
    "\n",
    "    time.sleep(10)\n"
   ]
  },
  {
   "cell_type": "code",
   "execution_count": 138,
   "id": "d4145e32",
   "metadata": {
    "scrolled": true
   },
   "outputs": [],
   "source": [
    "#extract data from webpage\n",
    "movie_info = {}\n",
    "end_url_list = []\n",
    "\n",
    "for i in range(1,4):\n",
    "    extract_movie_info(movie_info, end_url_list, 'https://www.wecinemas.com.sg/listing.aspx?tab=nowshowing&Page={}'.format(i))\n"
   ]
  },
  {
   "cell_type": "markdown",
   "id": "4f71ada8",
   "metadata": {},
   "source": []
  },
  {
   "cell_type": "markdown",
   "id": "f8f04ae9",
   "metadata": {},
   "source": [
    "## extract data from info page"
   ]
  },
  {
   "cell_type": "markdown",
   "id": "ae7dffac",
   "metadata": {},
   "source": [
    "### extract movie related info including showtime (put into detailed_movie_info)"
   ]
  },
  {
   "cell_type": "code",
   "execution_count": 140,
   "id": "52d2c572",
   "metadata": {},
   "outputs": [],
   "source": [
    "def extract_detailed_movie_info(movie_info, html):\n",
    "    #extract data from webpage\n",
    "    html = requests.get(html)\n",
    "\n",
    "    #get source page with content property\n",
    "    #resolve with BeautifulSoap and transfer into BS class\n",
    "    info = BeautifulSoup(html.content,'lxml')\n",
    "\n",
    "    dmovie_info = info.find(\"table\",width='436')\n",
    "    \n",
    "    movie_title = dmovie_info.find_all('span', id='lblMovieTitle')[0].text\n",
    "    \n",
    "    if movie_title in movie_info.keys():\n",
    "    \n",
    "        movie_AKA = dmovie_info.find_all('span', id='lblMovieAKA')[0].text\n",
    "        titles = dmovie_info.find_all('td', class_='mdetail-listing-txt')\n",
    "        infos = dmovie_info.find_all('td', class_='mdetail-b-listing-txt')\n",
    "        intro = dmovie_info.find_all('td', class_='content-details-txt')\n",
    "\n",
    "        movie_info[movie_title]['AKA'] = movie_AKA\n",
    "        movie_info[movie_title]['Opening Date'] = dmovie_info.find_all('span', id='lblMovieReleaseDate')[0].text\n",
    "        movie_info[movie_title]['Director'] = dmovie_info.find_all('span', id='lblMovieDirector')[0].text\n",
    "        movie_info[movie_title]['Cast'] = dmovie_info.find_all('span', id='lblMovieCast')[0].text\n",
    "        movie_info[movie_title]['Ratings'] = dmovie_info.find_all('span', id='lblMovieRating')[0].text\n",
    "        movie_info[movie_title]['Duration'] = dmovie_info.find_all('span', id='lblMovieRuntime')[0].text\n",
    "        movie_info[movie_title]['Language'] = dmovie_info.find_all('span', id='lblMovieLanguage')[0].text\n",
    "        movie_info[movie_title]['Genre'] = dmovie_info.find_all('span', id='lblMovieGenre')[0].text\n",
    "        movie_info[movie_title]['introduction'] = dmovie_info.find_all('span', id='lblMovieSynopsis')[0].text\n",
    "\n",
    "        showtime = dmovie_info.find_all('option')\n",
    "\n",
    "        movie_info[movie_title]['showdate'] = []\n",
    "\n",
    "        for st in showtime:\n",
    "            movie_info[movie_title]['showdate'].append(st.text)\n",
    "\n",
    "        movie_info[movie_title]['showtime'] = dmovie_info.find_all('div', class_=\"showtimes-but\")[0].text\n",
    "\n",
    "\n",
    "        rmovie_info = info.find(\"table\",width='436')\n",
    "        recommend_movie = []\n",
    "\n",
    "        rec_imgs = rmovie_info.find_all('img')\n",
    "        rec_titles = rmovie_info.find_all('td', class_='mtitle-details-txt')\n",
    "        rec_dates = rmovie_info.find_all('td', class_='mdate-home-txt')\n",
    "\n",
    "        for i in range(len(rec_imgs)):\n",
    "            recommend_movie.append([rec_imgs[i]['src'], rec_titles[i].text, rec_dates[i].text])\n",
    "\n",
    "        movie_info[movie_title]['recommended_movie'] = recommend_movie\n"
   ]
  },
  {
   "cell_type": "code",
   "execution_count": 141,
   "id": "66b852cf",
   "metadata": {},
   "outputs": [],
   "source": [
    "detail_movie_html = []\n",
    "base_url = 'https://www.wecinemas.com.sg{}'\n",
    "\n",
    "for end_url in end_url_list:\n",
    "    url = base_url.format(end_url)\n",
    "\n",
    "    extract_detailed_movie_info(movie_info,url)\n"
   ]
  },
  {
   "cell_type": "markdown",
   "id": "f618e5f2",
   "metadata": {},
   "source": []
  },
  {
   "cell_type": "markdown",
   "id": "32449ddc",
   "metadata": {},
   "source": [
    "## connect to database"
   ]
  },
  {
   "cell_type": "code",
   "execution_count": 6,
   "id": "858b1676",
   "metadata": {},
   "outputs": [],
   "source": [
    "# connect to database\n",
    "db = connect_db()\n",
    "\n",
    "# 使用 cursor() 方法创建一个游标对象 cursor\n",
    "cursor = db.cursor()\n",
    " \n",
    "\n"
   ]
  },
  {
   "cell_type": "markdown",
   "id": "547e3b6e",
   "metadata": {},
   "source": [
    "### showing movie info"
   ]
  },
  {
   "cell_type": "code",
   "execution_count": 156,
   "id": "5c140508",
   "metadata": {
    "scrolled": true
   },
   "outputs": [],
   "source": [
    "# create tables to store theatre data----- movie_info\n",
    "\n",
    "sql=\"\"\"\n",
    "    CREATE TABLE movie_showing (\n",
    "          title  VARCHAR(1000) NOT NULL,\n",
    "          AKA VARCHAR(1000),\n",
    "          title_EN  VARCHAR(1000),\n",
    "          title_CN  VARCHAR(1000),\n",
    "          poster_src VARCHAR(1000),\n",
    "          opening_date VARCHAR(100),\n",
    "          ratings VARCHAR(200),\n",
    "          duration VARCHAR(100),\n",
    "          director VARCHAR(500),\n",
    "          cast VARCHAR(1000),\n",
    "          language VARCHAR(200),\n",
    "          genre VARCHAR(200),\n",
    "          introduction VARCHAR(1000),\n",
    "          showdate VARCHAR(2000),\n",
    "          showtime VARCHAR(200),\n",
    "          recommended_movie VARCHAR(1000)\n",
    "          )\n",
    "    \"\"\"\n",
    "\n",
    "\n",
    "cursor.execute(sql)\n",
    "db.commit()\n"
   ]
  },
  {
   "cell_type": "code",
   "execution_count": 157,
   "id": "5ebc229c",
   "metadata": {},
   "outputs": [],
   "source": [
    "sql = 'insert into movie_showing values (%s, %s, %s, %s, %s, %s, %s, %s, %s, %s, %s, %s, %s, %s, %s, %s)'\n",
    "\n",
    "for mv_info in movie_info.values():\n",
    "    data = (mv_info['title'], mv_info['AKA'], mv_info['title_EN'], mv_info['title_CN'], \n",
    "            mv_info['poster_src'], mv_info['Opening Date'], mv_info['Ratings'], mv_info['Duration'], \n",
    "            mv_info['Director'], mv_info['Cast'], mv_info['Language'], mv_info['Genre'], \n",
    "            mv_info['introduction'], str(mv_info['showdate']), str(mv_info['showtime']), str(mv_info['recommended_movie']))\n",
    "\n",
    "    cursor.execute(sql, data)\n",
    "\n",
    "db.commit()\n"
   ]
  },
  {
   "cell_type": "markdown",
   "id": "9136eba7",
   "metadata": {},
   "source": []
  },
  {
   "cell_type": "markdown",
   "id": "e2a534a9",
   "metadata": {},
   "source": [
    "### create manager info"
   ]
  },
  {
   "cell_type": "code",
   "execution_count": null,
   "id": "535bd308",
   "metadata": {},
   "outputs": [],
   "source": [
    "# create tables to store theatre data----- movie_info\n",
    "\n",
    "sql=\"\"\"\n",
    "    CREATE TABLE manager_info (\n",
    "          phone  VARCHAR(100) NOT NULL,\n",
    "          password VARCHAR(100) NOT NULL\n",
    "          )\n",
    "    \"\"\"\n",
    "\n",
    "\n",
    "cursor.execute(sql)\n",
    "db.commit()\n"
   ]
  },
  {
   "cell_type": "code",
   "execution_count": 8,
   "id": "0c1f0412",
   "metadata": {},
   "outputs": [],
   "source": [
    "manager_info = [['12345678', 'manager01'], ['12345679', 'manager02'], ['12345670', 'manager03']]\n",
    "\n",
    "sql = 'insert into manager_info values (%s, %s)'\n",
    "\n",
    "\n",
    "for manager in manager_info:\n",
    "    info = (manager[0], manager[1])\n",
    "    cursor.execute(sql, info)\n",
    "\n",
    "\n",
    "db.commit()\n"
   ]
  },
  {
   "cell_type": "markdown",
   "id": "86103dce",
   "metadata": {},
   "source": []
  },
  {
   "cell_type": "markdown",
   "id": "eaab0423",
   "metadata": {},
   "source": []
  },
  {
   "cell_type": "markdown",
   "id": "7cae75d8",
   "metadata": {},
   "source": [
    "## API for UI to fetch data and manage database"
   ]
  },
  {
   "cell_type": "code",
   "execution_count": 250,
   "id": "5a527cb7",
   "metadata": {},
   "outputs": [],
   "source": [
    "# fetch data request API\n",
    "# example: table: 'movie_showing', length: 2\n",
    "def on_data_fetch_request(table, length, *columns):\n",
    "    if not columns:\n",
    "        columns = '*'\n",
    "        sql = 'SELECT {} FROM {}'.format(columns, table)\n",
    "    else:\n",
    "        columns = ','.join(list(columns[0]))\n",
    "        sql = 'SELECT {} FROM {}'.format(columns, table)\n",
    "    if length:\n",
    "        sql += ' LIMIT {}'.format(length)\n",
    "\n",
    "\n",
    "    db = connect_db()\n",
    "    cur = db.cursor()\n",
    "    cur.execute(sql)\n",
    "    return cur.fetchall()\n",
    "\n",
    "    "
   ]
  },
  {
   "cell_type": "code",
   "execution_count": 26,
   "id": "27079731",
   "metadata": {},
   "outputs": [],
   "source": [
    "# API test\n",
    "# rt = on_data_fetch_request('movie_showing', 2)"
   ]
  },
  {
   "cell_type": "code",
   "execution_count": 22,
   "id": "fd81a2cf",
   "metadata": {},
   "outputs": [],
   "source": [
    "# order_type: insert, delete, update\n",
    "# insert order example: insert(order_type) into {table} {condition[0](as columns)} values {condition[1](as values)}\n",
    "    # condition like: [(col1, col2, col3,...), (val1, val2, val3,...)]\n",
    "# delete order example: delete(order_type) * from {table} where {condition}\n",
    "    # condition like: {col1:val1, col2:val2,...}\n",
    "# update order example: update(order_type) {table} set {col='' where col1='' and col2=''}\n",
    "    # condition like: {'set': {}, 'where': {}}\n",
    "\n",
    "def on_manage_db_request(order_type, table, condition):\n",
    "    sql = ''\n",
    "    if order_type.lower() == 'insert':\n",
    "        sql = 'INSERT INTO {} {} VAlUES {}'.format(table, condition[0], condition[1])\n",
    "    elif order_type.lower() == 'delete':\n",
    "        con = ''\n",
    "        for key, val in condition.items():\n",
    "            con += f\" {key}={val} and \"\n",
    "        sql = 'DELETE * from {} where {}'.format(table, con[:-5])\n",
    "    elif order_type.lower() == 'update':\n",
    "        set_con = ''\n",
    "        for key, val in condition['set'].items():\n",
    "            set_con += f\" {key}={val} and \"\n",
    "        \n",
    "        where_con = ''\n",
    "        for key, val in condition['where'].items():\n",
    "            where_con += f\" {key}={val} and \"\n",
    "        \n",
    "        sql = 'UPDATE {} SET {} where {}'.format(table, set_con[:-5], where_con[:-5])\n",
    "    else: \n",
    "        raise ValueError('Invalid order_type!!!')\n",
    "    \n",
    "    db = connect_db()\n",
    "    cur = db.cursor()\n",
    "    cur.execute(sql)\n",
    "    return cur.fetchall()\n",
    "\n"
   ]
  },
  {
   "cell_type": "code",
   "execution_count": 25,
   "id": "7bd29b43",
   "metadata": {},
   "outputs": [
    {
     "name": "stdout",
     "output_type": "stream",
     "text": [
      "INSERT INTO movie ('col1', 'col2', 'col3') VAlUES ('val1', 'val2', 'val3')\n",
      "DELETE * from movie where  col1=val1 and  col2=val2 and  col3=val3\n",
      "UPDATE movie SET  col1=val1 and  col2=val2 and  col3=val3 where  col4=val4 and  col5=val5 and  col6=val6\n"
     ]
    }
   ],
   "source": [
    "# API test:\n",
    "# on_manage_db_request('insert', 'movie', [('col1','col2','col3'), ('val1', 'val2', 'val3')])\n",
    "\n",
    "# on_manage_db_request('delete', 'movie', {'col1':'val1', 'col2':'val2', 'col3':'val3'})\n",
    "\n",
    "# on_manage_db_request('update', 'movie', {'set':{'col1':'val1', 'col2':'val2', 'col3':'val3'}, 'where':{'col4':'val4','col5':'val5', 'col6':'val6'}})\n"
   ]
  },
  {
   "cell_type": "code",
   "execution_count": 11,
   "id": "11388974",
   "metadata": {},
   "outputs": [],
   "source": [
    "def on_query_manager_info(phone):\n",
    "    sql = \"SELECT password FROM manager_info where phone = '{}'\".format(phone)\n",
    "    \n",
    "    db = connect_db()\n",
    "    cur = db.cursor()\n",
    "    cur.execute(sql)\n",
    "    return cur.fetchall()\n"
   ]
  },
  {
   "cell_type": "code",
   "execution_count": 12,
   "id": "165efd84",
   "metadata": {},
   "outputs": [
    {
     "data": {
      "text/plain": [
       "[{'password': 'manager01'}]"
      ]
     },
     "execution_count": 12,
     "metadata": {},
     "output_type": "execute_result"
    }
   ],
   "source": [
    "# API test\n",
    "# on_query_manager_info('12345678')\n"
   ]
  },
  {
   "cell_type": "code",
   "execution_count": null,
   "id": "20e413b1",
   "metadata": {},
   "outputs": [],
   "source": []
  },
  {
   "cell_type": "code",
   "execution_count": null,
   "id": "2aa60ab3",
   "metadata": {},
   "outputs": [],
   "source": []
  },
  {
   "cell_type": "code",
   "execution_count": null,
   "id": "f67916c2",
   "metadata": {},
   "outputs": [],
   "source": []
  },
  {
   "cell_type": "code",
   "execution_count": null,
   "id": "4bdf32c1",
   "metadata": {},
   "outputs": [],
   "source": []
  },
  {
   "cell_type": "code",
   "execution_count": null,
   "id": "6c71700a",
   "metadata": {},
   "outputs": [],
   "source": []
  },
  {
   "cell_type": "code",
   "execution_count": null,
   "id": "145f7c5e",
   "metadata": {},
   "outputs": [],
   "source": []
  },
  {
   "cell_type": "code",
   "execution_count": null,
   "id": "509a7f23",
   "metadata": {},
   "outputs": [],
   "source": []
  },
  {
   "cell_type": "code",
   "execution_count": null,
   "id": "99a4d41b",
   "metadata": {},
   "outputs": [],
   "source": []
  },
  {
   "cell_type": "code",
   "execution_count": null,
   "id": "97984e1d",
   "metadata": {},
   "outputs": [],
   "source": []
  },
  {
   "cell_type": "markdown",
   "id": "02d80431",
   "metadata": {},
   "source": [
    "### coming movie info"
   ]
  },
  {
   "cell_type": "code",
   "execution_count": 41,
   "id": "d88e6609",
   "metadata": {},
   "outputs": [],
   "source": [
    "# # create tables to store theatre data----- coming movie info\n",
    "\n",
    "# sql=\"\"\"\n",
    "#     CREATE TABLE coming_movie (\n",
    "#           title  VARCHAR(200) NOT NULL,\n",
    "#           title_EN  VARCHAR(200),\n",
    "#           title_CN  VARCHAR(200),\n",
    "#           poster_src VARCHAR(200),\n",
    "#           opening_date VARCHAR(20),\n",
    "#           rating VARCHAR(200),\n",
    "#           duration VARCHAR(20),\n",
    "#           introduction VARCHAR(2000))\n",
    "#     \"\"\"\n",
    "\n",
    "# cursor.execute(sql)\n",
    "# db.commit()\n",
    "\n",
    "\n",
    "# insert data into coming_movie table\n",
    "# sql = 'insert into coming_movie values(%s, %s, %s, %s, %s, %s, %s, %s)'\n",
    "\n",
    "# for mv_info in coming_movie_info.values():\n",
    "#     data = (mv_info['title'], mv_info['title_EN'], mv_info['title_CN'], mv_info['poster_src'], \n",
    "#          mv_info['Opening Date'], mv_info['Ratings'], mv_info['Duration'], mv_info['introduction'])\n",
    "\n",
    "#     cursor.execute(sql, data)\n",
    "\n",
    "# db.commit()\n"
   ]
  },
  {
   "cell_type": "markdown",
   "id": "ce866dbb",
   "metadata": {},
   "source": []
  },
  {
   "cell_type": "markdown",
   "id": "b2df258c",
   "metadata": {},
   "source": [
    "### detailed movie info"
   ]
  },
  {
   "cell_type": "code",
   "execution_count": 44,
   "id": "0cc1d012",
   "metadata": {},
   "outputs": [],
   "source": [
    "# # create tables to store theatre data----- detailed movie info\n",
    "\n",
    "# sql=\"\"\"\n",
    "#     CREATE TABLE detailed_movie_info (\n",
    "#           title  VARCHAR(200) NOT NULL,\n",
    "#           AKA  VARCHAR(200),\n",
    "#           opening_date VARCHAR(20),\n",
    "#           director VARCHAR(200),\n",
    "#           cast VARCHAR(200),\n",
    "#           rating VARCHAR(200),\n",
    "#           duration VARCHAR(20),\n",
    "#           language VARCHAR(200),\n",
    "#           genre VARCHAR(50),\n",
    "#           introduction VARCHAR(2000),\n",
    "#           showdate VARCHAR(100),\n",
    "#           showtime VARCHAR(50),\n",
    "#           recommended_movie VARCHAR(2000)\n",
    "#           )\n",
    "#     \"\"\"\n",
    "\n",
    "# cursor.execute(sql)\n",
    "# db.commit()\n",
    "\n",
    "\n",
    "# insert data into detailed_movie_info table\n",
    "# sql = 'insert into detailed_movie_info values(%s, %s, %s, %s, %s, %s, %s, %s, %s, %s, %s, %s, %s)'\n",
    "\n",
    "# for key, value in detailed_movie_info.items():\n",
    "#     data = (key, value['AKA'], value['Opening Date'], value['Director'], value['Cast'], \n",
    "#          value['Ratings'], value['Duration'], value['Language'], value['Genre'],\n",
    "#          value['introduction'], str(value['showdate']), value['showtime'], str(value['recommended_movie']))\n",
    "\n",
    "#     cursor.execute(sql, data)\n",
    "\n",
    "# db.commit()\n"
   ]
  },
  {
   "cell_type": "markdown",
   "id": "d7e99426",
   "metadata": {},
   "source": []
  },
  {
   "cell_type": "markdown",
   "id": "8892a5b9",
   "metadata": {},
   "source": [
    "## extract data about coming movies"
   ]
  },
  {
   "cell_type": "code",
   "execution_count": null,
   "id": "31ab8b46",
   "metadata": {},
   "outputs": [],
   "source": [
    "# coming_table_list = soup.find(\"table\",id='DataComingSoonListing')\n",
    "\n",
    "# # find movie image info from DataNowshowingListing\n",
    "# coming_movie_info = {}\n",
    "# for tbl in coming_table_list.find_all('table', width=\"650\"):\n",
    "#     tds = tbl.find_all('td', class_='mtitle-listing-txt')\n",
    "\n",
    "#     coming_movie_info[tbl.select('img')[0]['title']] = {'title': tbl.select('img')[0]['alt'], \n",
    "#                                                 'poster_src': tbl.select('img')[0]['src'],\n",
    "#                                                 'title_EN': tds[0].text,\n",
    "#                                                 'title_CN': tds[1].text\n",
    "#                                                }\n",
    "    \n",
    "#     titles = tbl.find_all('td', class_='mdetail-listing-txt')\n",
    "#     infos = tbl.find_all('td', class_='mdetail-b-listing-txt')\n",
    "\n",
    "#     coming_movie_info[tbl.select('img')[0]['title']][titles[0].text] = infos[0].text\n",
    "#     coming_movie_info[tbl.select('img')[0]['title']][titles[2].text] = infos[1].text\n",
    "#     coming_movie_info[tbl.select('img')[0]['title']][titles[4].text] = infos[2].text\n",
    "#     coming_movie_info[tbl.select('img')[0]['title']]['introduction'] = titles[6].text\n",
    "\n"
   ]
  },
  {
   "cell_type": "code",
   "execution_count": null,
   "id": "ba7ce77e",
   "metadata": {},
   "outputs": [],
   "source": []
  },
  {
   "cell_type": "code",
   "execution_count": null,
   "id": "ca22fb22",
   "metadata": {},
   "outputs": [],
   "source": []
  },
  {
   "cell_type": "code",
   "execution_count": null,
   "id": "c80bb93e",
   "metadata": {},
   "outputs": [],
   "source": []
  },
  {
   "cell_type": "code",
   "execution_count": null,
   "id": "5a971db1",
   "metadata": {},
   "outputs": [],
   "source": []
  }
 ],
 "metadata": {
  "kernelspec": {
   "display_name": "Python 3 (ipykernel)",
   "language": "python",
   "name": "python3"
  },
  "language_info": {
   "codemirror_mode": {
    "name": "ipython",
    "version": 3
   },
   "file_extension": ".py",
   "mimetype": "text/x-python",
   "name": "python",
   "nbconvert_exporter": "python",
   "pygments_lexer": "ipython3",
   "version": "3.9.12"
  }
 },
 "nbformat": 4,
 "nbformat_minor": 5
}
